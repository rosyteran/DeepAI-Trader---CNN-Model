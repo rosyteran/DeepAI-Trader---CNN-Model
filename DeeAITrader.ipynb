{
 "cells": [
  {
   "cell_type": "code",
   "execution_count": 20,
   "metadata": {
    "collapsed": false
   },
   "source": [
    "import os\n",
    "import pandas as pd\n",
    "import numpy as np\n",
    "import random\n",
    "import tensorflow as tf\n",
    "\n",
    "x = tf.placeholder(\"float\", shape=[None, 64])\n",
    "y_ = tf.placeholder(\"float\", shape=[None, 3])\n",
    "\n",
    "x_image = tf.reshape(x, [-1, 8, 8, 1])\n",
    "\n",
    "\n",
    "def weight_variable(shape):\n",
    "    initial = tf.truncated_normal(shape, stddev=0.1)\n",
    "    return tf.Variable(initial)\n",
    "\n",
    "def bias_variable(shape):\n",
    "    initial = tf.constant(0.1, shape=shape)\n",
    "    return tf.Variable(initial)\n",
    "\n",
    "def conv2d(x, W):\n",
    "    return tf.nn.conv2d(x, W, strides=[1, 1, 1, 1], padding='SAME')\n",
    "\n",
    "def max_pool_2x2(x):\n",
    "    return tf.nn.max_pool(x, ksize=[1, 2, 2, 1], strides=[1, 2, 2, 1], padding='SAME')\n",
    "\n",
    "W_conv1 = weight_variable([4, 4, 1, 12])\n",
    "b_conv1 = bias_variable([12])\n",
    "\n",
    "h_conv1 = tf.nn.relu(conv2d(x_image, W_conv1) + b_conv1)\n",
    "h_pool1 = max_pool_2x2(h_conv1)\n",
    "\n",
    "W_conv2 = weight_variable([4, 4, 12, 24])\n",
    "b_conv2 = bias_variable([24])\n",
    "\n",
    "h_conv2 = tf.nn.relu(conv2d(h_pool1, W_conv2) + b_conv2)\n",
    "h_pool2 = max_pool_2x2(h_conv2)\n",
    "\n",
    "W_fc1 = weight_variable([2 * 2 * 24, 1056])\n",
    "b_fc1 = bias_variable([1056])\n",
    "\n",
    "h_pool2_flat = tf.reshape(h_pool2, [-1, 2 * 2 * 24])\n",
    "h_fc1 = tf.nn.relu(tf.matmul(h_pool2_flat, W_fc1) + b_fc1)\n",
    "\n",
    "keep_prob = tf.placeholder(\"float\")\n",
    "h_fc1_drop = tf.nn.dropout(h_fc1, keep_prob)\n",
    "\n",
    "W_fc2 = weight_variable([1056, 3])\n",
    "b_fc2 = bias_variable([3])\n",
    "\n",
    "y_conv = tf.nn.softmax(tf.matmul(h_fc1_drop, W_fc2) + b_fc2)\n",
    "\n",
    "cross_entropy = -tf.reduce_sum(y_ * tf.log(y_conv))\n",
    "train_step = tf.train.AdamOptimizer(1e-3).minimize(cross_entropy)\n",
    "correct_prediction = tf.equal(tf.argmax(y_conv, 1), tf.argmax(y_, 1))\n",
    "accuracy = tf.reduce_mean(tf.cast(correct_prediction, \"float\"))\n",
    "\n",
    "sess = tf.Session()\n",
    "\n",
    "sess.run(tf.initialize_all_variables())\n",
    "\n",
    "df_train = pd.read_csv(\"data/df_train_feature.csv\", header=None, sep=',')\n",
    "df_train_label = pd.read_csv(\"data/df_train_label.csv\", header=None, sep=',')\n",
    "batchsize = 100\n",
    "\n",
    "for i in range(1000):\n",
    "    bids = []\n",
    "    for ii in range(batchsize):\n",
    "        batchid = random.randrange(1, len(df_train.index) + 1)\n",
    "        bids.append(batchid)\n",
    "    batch_x  = df_train.loc[bids]       \n",
    "    batch_y_ = df_train_label.loc[bids]  \n",
    "\n",
    "    if i % 10 == 0:\n",
    "        train_accuracy = sess.run(accuracy, feed_dict={x: batch_x, y_: batch_y_, keep_prob: 1.0})\n",
    "        print(\"step %d, training accuracy %g\" % (i, train_accuracy))\n",
    "    sess.run(train_step, feed_dict={x: batch_x, y_: batch_y_, keep_prob: 0.5})\n",
    "\n"
   ]
  },
  {
   "cell_type": "code",
   "execution_count": null,
   "metadata": {
    "collapsed": true
   },
   "outputs": [],
   "source": []
  },
  {
   "cell_type": "code",
   "execution_count": null,
   "metadata": {
    "collapsed": true
   },
   "outputs": [],
   "source": []
  }
 ],
 "metadata": {
  "kernelspec": {
   "display_name": "Python 2",
   "language": "python",
   "name": "python2"
  },
  "language_info": {
   "codemirror_mode": {
    "name": "ipython",
    "version": 2
   },
   "file_extension": ".py",
   "mimetype": "text/x-python",
   "name": "python",
   "nbconvert_exporter": "python",
   "pygments_lexer": "ipython2",
   "version": "2.7.6"
  }
 },
 "nbformat": 4,
 "nbformat_minor": 1
}
